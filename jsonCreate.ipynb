{
 "cells": [
  {
   "cell_type": "code",
   "execution_count": 7,
   "metadata": {
    "collapsed": false
   },
   "outputs": [],
   "source": [
    "import json\n",
    "\n",
    "data = {}\n",
    "data['key'] = 'value'\n",
    "data['project'] = 'test'\n",
    "data['station'] = {'operatorName': 'Jeff', 'facilityName': 'Cedar Falls'}\n",
    "\n",
    "\n",
    "json_data = json.dumps(data)"
   ]
  },
  {
   "cell_type": "code",
   "execution_count": 8,
   "metadata": {
    "collapsed": false
   },
   "outputs": [
    {
     "data": {
      "text/plain": [
       "'{\"project\": \"test\", \"key\": \"value\", \"station\": {\"operatorName\": \"Jeff\", \"facilityName\": \"Cedar Falls\"}}'"
      ]
     },
     "execution_count": 8,
     "metadata": {},
     "output_type": "execute_result"
    }
   ],
   "source": [
    "json_data"
   ]
  },
  {
   "cell_type": "code",
   "execution_count": null,
   "metadata": {
    "collapsed": true
   },
   "outputs": [],
   "source": [
    "original_json = json.load(open('data/bricsinvestorsfirst.json'),'r')\n",
    "\n",
    "response_json = {}\n",
    "response_json[\"name\"] = \"analytics\"\n",
    "\n",
    "# where your children list will go\n",
    "children = []\n",
    "\n",
    "size = 500 # or whatever else you want\n",
    "\n",
    "# For each item in your original list\n",
    "for item in original_json:\n",
    "    children.append({\"name\" : item[\"name\"],\n",
    "                     \"size\" : size})\n",
    "\n",
    "response_json[\"children\"] = children\n",
    "\n",
    "print json.dumps(response_json,indent=2)"
   ]
  }
 ],
 "metadata": {
  "kernelspec": {
   "display_name": "Python 2",
   "language": "python",
   "name": "python2"
  },
  "language_info": {
   "codemirror_mode": {
    "name": "ipython",
    "version": 3
   },
   "file_extension": ".py",
   "mimetype": "text/x-python",
   "name": "python",
   "nbconvert_exporter": "python",
   "pygments_lexer": "ipython3",
   "version": "3.4.3"
  }
 },
 "nbformat": 4,
 "nbformat_minor": 2
}
