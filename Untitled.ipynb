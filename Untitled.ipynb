{
 "cells": [
  {
   "cell_type": "code",
   "execution_count": 1,
   "metadata": {
    "collapsed": false
   },
   "outputs": [
    {
     "name": "stdout",
     "output_type": "stream",
     "text": [
      "jup_spec.ipynb\t\t  PE_scanning.ipynb\t   SeabreezeTest.ipynb\r\n",
      "ocean_light_source.ipynb  README.md\t\t   test.ipynb\r\n",
      "pca.ipynb\t\t  SeabreezeTest (1).ipynb  Untitled.ipynb\r\n"
     ]
    }
   ],
   "source": [
    "!ls"
   ]
  },
  {
   "cell_type": "code",
   "execution_count": 2,
   "metadata": {
    "collapsed": true
   },
   "outputs": [],
   "source": [
    "!cd ~/Desktop"
   ]
  },
  {
   "cell_type": "code",
   "execution_count": 7,
   "metadata": {
    "collapsed": false
   },
   "outputs": [
    {
     "name": "stdout",
     "output_type": "stream",
     "text": [
      "20170516-121015-lake city-lcf02.log\r\n",
      "20170516-121549-lake city-lcf02.log\r\n",
      "20170516-122340-lake city-lcf02.logtmp\r\n",
      "20170516-123240-lake city-lcf02.logtmp\r\n",
      "20170516-123735-lake city-lcf02.logtmp\r\n",
      "Bullseye-20170516-121335708-lcf02-sample-032902-FLAME_NIR.json\r\n",
      "Bullseye-20170516-121335708-lcf02-sample-032902-FLAME_S.json\r\n",
      "Bullseye-20170516-121335708-lcf02-sample-032902-NIRQUEST.json\r\n",
      "Bullseye-20170516-121335708-lcf02-sample-032902-QEPRO.json\r\n",
      "Bullseye-20170516-121335708-lcf02-sample-032902-SPARK.json\r\n",
      "Bullseye-20170516-121707810-lcf02-sample-032905-FLAME_NIR.json\r\n",
      "Bullseye-20170516-121707810-lcf02-sample-032905-FLAME_S.json\r\n",
      "Bullseye-20170516-121707810-lcf02-sample-032905-NIRQUEST.json\r\n",
      "Bullseye-20170516-121707810-lcf02-sample-032905-QEPRO.json\r\n",
      "Bullseye-20170516-121707810-lcf02-sample-032905-SPARK.json\r\n",
      "Bullseye-20170516-121726242-lcf02-sample-032906-FLAME_NIR.json\r\n",
      "Bullseye-20170516-121726242-lcf02-sample-032906-FLAME_S.json\r\n",
      "Bullseye-20170516-121726242-lcf02-sample-032906-NIRQUEST.json\r\n",
      "Bullseye-20170516-121726242-lcf02-sample-032906-QEPRO.json\r\n",
      "Bullseye-20170516-121726242-lcf02-sample-032906-SPARK.json\r\n",
      "Bullseye-20170516-121739126-lcf02-sample-032907-FLAME_NIR.json\r\n",
      "Bullseye-20170516-121739126-lcf02-sample-032907-FLAME_S.json\r\n",
      "Bullseye-20170516-121739126-lcf02-sample-032907-NIRQUEST.json\r\n",
      "Bullseye-20170516-121739126-lcf02-sample-032907-QEPRO.json\r\n",
      "Bullseye-20170516-121739126-lcf02-sample-032907-SPARK.json\r\n",
      "Bullseye-20170516-121803402-lcf02-sample-032908-FLAME_NIR.json\r\n",
      "Bullseye-20170516-121803402-lcf02-sample-032908-FLAME_S.json\r\n",
      "Bullseye-20170516-121803402-lcf02-sample-032908-NIRQUEST.json\r\n",
      "Bullseye-20170516-121803402-lcf02-sample-032908-QEPRO.json\r\n",
      "Bullseye-20170516-121803402-lcf02-sample-032908-SPARK.json\r\n",
      "Bullseye-20170516-121831378-lcf02-sample-032909-FLAME_NIR.json\r\n",
      "Bullseye-20170516-121831378-lcf02-sample-032909-FLAME_S.json\r\n",
      "Bullseye-20170516-121831378-lcf02-sample-032909-NIRQUEST.json\r\n",
      "Bullseye-20170516-121831378-lcf02-sample-032909-QEPRO.json\r\n",
      "Bullseye-20170516-121831378-lcf02-sample-032909-SPARK.json\r\n",
      "Bullseye-20170516-121855528-lcf02-sample-032910-FLAME_NIR.json\r\n",
      "Bullseye-20170516-121855528-lcf02-sample-032910-FLAME_S.json\r\n",
      "Bullseye-20170516-121855528-lcf02-sample-032910-NIRQUEST.json\r\n",
      "Bullseye-20170516-121855528-lcf02-sample-032910-QEPRO.json\r\n",
      "Bullseye-20170516-121855528-lcf02-sample-032910-SPARK.json\r\n",
      "Bullseye-20170516-121914536-lcf02-sample-032911-FLAME_NIR.json\r\n",
      "Bullseye-20170516-121914536-lcf02-sample-032911-FLAME_S.json\r\n",
      "Bullseye-20170516-121914536-lcf02-sample-032911-NIRQUEST.json\r\n",
      "Bullseye-20170516-121914536-lcf02-sample-032911-QEPRO.json\r\n",
      "Bullseye-20170516-121914536-lcf02-sample-032911-SPARK.json\r\n",
      "Bullseye-20170516-121946604-lcf02-sample-032912-FLAME_NIR.json\r\n",
      "Bullseye-20170516-121946604-lcf02-sample-032912-FLAME_S.json\r\n",
      "Bullseye-20170516-121946604-lcf02-sample-032912-NIRQUEST.json\r\n",
      "Bullseye-20170516-121946604-lcf02-sample-032912-QEPRO.json\r\n",
      "Bullseye-20170516-121946604-lcf02-sample-032912-SPARK.json\r\n",
      "Bullseye-20170516-122020462-lcf02-sample-032913-FLAME_NIR.json\r\n",
      "Bullseye-20170516-122020462-lcf02-sample-032913-FLAME_S.json\r\n",
      "Bullseye-20170516-122020462-lcf02-sample-032913-NIRQUEST.json\r\n",
      "Bullseye-20170516-122020462-lcf02-sample-032913-QEPRO.json\r\n",
      "Bullseye-20170516-122020462-lcf02-sample-032913-SPARK.json\r\n",
      "Bullseye-20170516-122106610-lcf02-sample-032914-FLAME_NIR.json\r\n",
      "Bullseye-20170516-122106610-lcf02-sample-032914-FLAME_S.json\r\n",
      "Bullseye-20170516-122106610-lcf02-sample-032914-NIRQUEST.json\r\n",
      "Bullseye-20170516-122106610-lcf02-sample-032914-QEPRO.json\r\n",
      "Bullseye-20170516-122106610-lcf02-sample-032914-SPARK.json\r\n",
      "Bullseye-20170516-122652724-lcf02-sample-032916-FLAME_NIR.json\r\n",
      "Bullseye-20170516-122652724-lcf02-sample-032916-FLAME_S.json\r\n",
      "Bullseye-20170516-122652724-lcf02-sample-032916-NIRQUEST.json\r\n",
      "Bullseye-20170516-122652724-lcf02-sample-032916-QEPRO.json\r\n",
      "Bullseye-20170516-122652724-lcf02-sample-032916-SPARK.json\r\n",
      "Bullseye-20170516-122712815-lcf02-sample-032917-FLAME_NIR.json\r\n",
      "Bullseye-20170516-122712815-lcf02-sample-032917-FLAME_S.json\r\n",
      "Bullseye-20170516-122712815-lcf02-sample-032917-NIRQUEST.json\r\n",
      "Bullseye-20170516-122712815-lcf02-sample-032917-QEPRO.json\r\n",
      "Bullseye-20170516-122712815-lcf02-sample-032917-SPARK.json\r\n",
      "Bullseye-20170516-122727958-lcf02-sample-032918-FLAME_NIR.json\r\n",
      "Bullseye-20170516-122727958-lcf02-sample-032918-FLAME_S.json\r\n",
      "Bullseye-20170516-122727958-lcf02-sample-032918-NIRQUEST.json\r\n",
      "Bullseye-20170516-122727958-lcf02-sample-032918-QEPRO.json\r\n",
      "Bullseye-20170516-122727958-lcf02-sample-032918-SPARK.json\r\n",
      "Bullseye-20170516-122803067-lcf02-sample-032919-FLAME_NIR.json\r\n",
      "Bullseye-20170516-122803067-lcf02-sample-032919-FLAME_S.json\r\n",
      "Bullseye-20170516-122803067-lcf02-sample-032919-NIRQUEST.json\r\n",
      "Bullseye-20170516-122803067-lcf02-sample-032919-QEPRO.json\r\n",
      "Bullseye-20170516-122803067-lcf02-sample-032919-SPARK.json\r\n",
      "Bullseye-20170516-122824703-lcf02-sample-032920-FLAME_NIR.json\r\n",
      "Bullseye-20170516-122824703-lcf02-sample-032920-FLAME_S.json\r\n",
      "Bullseye-20170516-122824703-lcf02-sample-032920-NIRQUEST.json\r\n",
      "Bullseye-20170516-122824703-lcf02-sample-032920-QEPRO.json\r\n",
      "Bullseye-20170516-122824703-lcf02-sample-032920-SPARK.json\r\n",
      "Bullseye-20170516-122913982-lcf02-sample-032921-FLAME_NIR.json\r\n",
      "Bullseye-20170516-122913982-lcf02-sample-032921-FLAME_S.json\r\n",
      "Bullseye-20170516-122913982-lcf02-sample-032921-NIRQUEST.json\r\n",
      "Bullseye-20170516-122913982-lcf02-sample-032921-QEPRO.json\r\n",
      "Bullseye-20170516-122913982-lcf02-sample-032921-SPARK.json\r\n",
      "Bullseye-20170516-122929438-lcf02-sample-032922-FLAME_NIR.json\r\n",
      "Bullseye-20170516-122929438-lcf02-sample-032922-FLAME_S.json\r\n",
      "Bullseye-20170516-122929438-lcf02-sample-032922-NIRQUEST.json\r\n",
      "Bullseye-20170516-122929438-lcf02-sample-032922-QEPRO.json\r\n",
      "Bullseye-20170516-122929438-lcf02-sample-032922-SPARK.json\r\n",
      "Bullseye-20170516-123336247-lcf02-sample-032926-FLAME_NIR.json\r\n",
      "Bullseye-20170516-123336247-lcf02-sample-032926-FLAME_S.json\r\n",
      "Bullseye-20170516-123336247-lcf02-sample-032926-NIRQUEST.json\r\n",
      "Bullseye-20170516-123336247-lcf02-sample-032926-QEPRO.json\r\n",
      "Bullseye-20170516-123336247-lcf02-sample-032926-SPARK.json\r\n",
      "Bullseye-20170516-123356211-lcf02-sample-032927-FLAME_NIR.json\r\n",
      "Bullseye-20170516-123356211-lcf02-sample-032927-FLAME_S.json\r\n",
      "Bullseye-20170516-123356211-lcf02-sample-032927-NIRQUEST.json\r\n",
      "Bullseye-20170516-123356211-lcf02-sample-032927-QEPRO.json\r\n",
      "Bullseye-20170516-123356211-lcf02-sample-032927-SPARK.json\r\n",
      "Bullseye-20170516-123416795-lcf02-sample-032928-FLAME_NIR.json\r\n",
      "Bullseye-20170516-123416795-lcf02-sample-032928-FLAME_S.json\r\n",
      "Bullseye-20170516-123416795-lcf02-sample-032928-NIRQUEST.json\r\n",
      "Bullseye-20170516-123416795-lcf02-sample-032928-QEPRO.json\r\n",
      "Bullseye-20170516-123416795-lcf02-sample-032928-SPARK.json\r\n",
      "Bullseye-20170516-123436022-lcf02-sample-032929-FLAME_NIR.json\r\n",
      "Bullseye-20170516-123436022-lcf02-sample-032929-FLAME_S.json\r\n",
      "Bullseye-20170516-123436022-lcf02-sample-032929-NIRQUEST.json\r\n",
      "Bullseye-20170516-123436022-lcf02-sample-032929-QEPRO.json\r\n",
      "Bullseye-20170516-123436022-lcf02-sample-032929-SPARK.json\r\n",
      "Bullseye-20170516-123827940-lcf02-sample-032933-FLAME_NIR.json\r\n",
      "Bullseye-20170516-123827940-lcf02-sample-032933-FLAME_S.json\r\n",
      "Bullseye-20170516-123827940-lcf02-sample-032933-NIRQUEST.json\r\n",
      "Bullseye-20170516-123827940-lcf02-sample-032933-QEPRO.json\r\n",
      "Bullseye-20170516-123827940-lcf02-sample-032933-SPARK.json\r\n",
      "Bullseye-20170516-123842971-lcf02-sample-032934-FLAME_NIR.json\r\n",
      "Bullseye-20170516-123842971-lcf02-sample-032934-FLAME_S.json\r\n",
      "Bullseye-20170516-123842971-lcf02-sample-032934-NIRQUEST.json\r\n",
      "Bullseye-20170516-123842971-lcf02-sample-032934-QEPRO.json\r\n",
      "Bullseye-20170516-123842971-lcf02-sample-032934-SPARK.json\r\n",
      "Bullseye-20170516-123904385-lcf02-sample-032935-FLAME_NIR.json\r\n",
      "Bullseye-20170516-123904385-lcf02-sample-032935-FLAME_S.json\r\n",
      "Bullseye-20170516-123904385-lcf02-sample-032935-NIRQUEST.json\r\n",
      "Bullseye-20170516-123904385-lcf02-sample-032935-QEPRO.json\r\n",
      "Bullseye-20170516-123904385-lcf02-sample-032935-SPARK.json\r\n",
      "Bullseye-20170516-123929341-lcf02-sample-032936-FLAME_NIR.json\r\n",
      "Bullseye-20170516-123929341-lcf02-sample-032936-FLAME_S.json\r\n",
      "Bullseye-20170516-123929341-lcf02-sample-032936-NIRQUEST.json\r\n",
      "Bullseye-20170516-123929341-lcf02-sample-032936-QEPRO.json\r\n",
      "Bullseye-20170516-123929341-lcf02-sample-032936-SPARK.json\r\n",
      "Bullseye-20170516-123943438-lcf02-sample-032937-FLAME_NIR.json\r\n",
      "Bullseye-20170516-123943438-lcf02-sample-032937-FLAME_S.json\r\n",
      "Bullseye-20170516-123943438-lcf02-sample-032937-NIRQUEST.json\r\n",
      "Bullseye-20170516-123943438-lcf02-sample-032937-QEPRO.json\r\n",
      "Bullseye-20170516-123943438-lcf02-sample-032937-SPARK.json\r\n",
      "Bullseye-20170516-124627818-lcf02-sample-032941-FLAME_NIR.json\r\n",
      "Bullseye-20170516-124627818-lcf02-sample-032941-FLAME_S.json\r\n",
      "Bullseye-20170516-124627818-lcf02-sample-032941-NIRQUEST.json\r\n",
      "Bullseye-20170516-124627818-lcf02-sample-032941-QEPRO.json\r\n",
      "Bullseye-20170516-124627818-lcf02-sample-032941-SPARK.json\r\n",
      "Bullseye-20170516-124644369-lcf02-sample-032942-FLAME_NIR.json\r\n",
      "Bullseye-20170516-124644369-lcf02-sample-032942-FLAME_S.json\r\n",
      "Bullseye-20170516-124644369-lcf02-sample-032942-NIRQUEST.json\r\n",
      "Bullseye-20170516-124644369-lcf02-sample-032942-QEPRO.json\r\n",
      "Bullseye-20170516-124644369-lcf02-sample-032942-SPARK.json\r\n",
      "Bullseye-20170516-124705398-lcf02-sample-032943-FLAME_NIR.json\r\n",
      "Bullseye-20170516-124705398-lcf02-sample-032943-FLAME_S.json\r\n",
      "Bullseye-20170516-124705398-lcf02-sample-032943-NIRQUEST.json\r\n",
      "Bullseye-20170516-124705398-lcf02-sample-032943-QEPRO.json\r\n",
      "Bullseye-20170516-124705398-lcf02-sample-032943-SPARK.json\r\n",
      "Bullseye-20170516-124726240-lcf02-sample-032944-FLAME_NIR.json\r\n",
      "Bullseye-20170516-124726240-lcf02-sample-032944-FLAME_S.json\r\n",
      "Bullseye-20170516-124726240-lcf02-sample-032944-NIRQUEST.json\r\n",
      "Bullseye-20170516-124726240-lcf02-sample-032944-QEPRO.json\r\n",
      "Bullseye-20170516-124726240-lcf02-sample-032944-SPARK.json\r\n"
     ]
    }
   ],
   "source": [
    "!ls bench1"
   ]
  },
  {
   "cell_type": "code",
   "execution_count": 5,
   "metadata": {
    "collapsed": true
   },
   "outputs": [],
   "source": [
    "from shutil import copyfile"
   ]
  },
  {
   "cell_type": "code",
   "execution_count": 9,
   "metadata": {
    "collapsed": false
   },
   "outputs": [
    {
     "data": {
      "text/plain": [
       "'bench1_renamed/poo'"
      ]
     },
     "execution_count": 9,
     "metadata": {},
     "output_type": "execute_result"
    }
   ],
   "source": [
    "copyfile('bench1/Bullseye-20170516-121335708-lcf02-sample-032902-FLAME_NIR.json', 'bench1_renamed/poo')"
   ]
  },
  {
   "cell_type": "code",
   "execution_count": null,
   "metadata": {
    "collapsed": true
   },
   "outputs": [],
   "source": []
  }
 ],
 "metadata": {
  "kernelspec": {
   "display_name": "Python 3",
   "language": "python",
   "name": "python3"
  },
  "language_info": {
   "codemirror_mode": {
    "name": "ipython",
    "version": 3
   },
   "file_extension": ".py",
   "mimetype": "text/x-python",
   "name": "python",
   "nbconvert_exporter": "python",
   "pygments_lexer": "ipython3",
   "version": "3.5.2"
  }
 },
 "nbformat": 4,
 "nbformat_minor": 2
}
